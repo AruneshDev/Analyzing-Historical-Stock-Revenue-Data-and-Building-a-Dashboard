{
  "nbformat": 4,
  "nbformat_minor": 0,
  "metadata": {
    "colab": {
      "provenance": [],
      "authorship_tag": "ABX9TyPmyESiwDKfu7iUP+OoggWD",
      "include_colab_link": true
    },
    "kernelspec": {
      "name": "python3",
      "display_name": "Python 3"
    },
    "language_info": {
      "name": "python"
    },
    "widgets": {
      "application/vnd.jupyter.widget-state+json": {
        "af4c57c315c24e10bfda407e2003428e": {
          "model_module": "@jupyter-widgets/controls",
          "model_name": "DropdownModel",
          "model_module_version": "1.5.0",
          "state": {
            "_dom_classes": [],
            "_model_module": "@jupyter-widgets/controls",
            "_model_module_version": "1.5.0",
            "_model_name": "DropdownModel",
            "_options_labels": [
              "Apple (AAPL)",
              "Microsoft (MSFT)",
              "Google (GOOGL)",
              "Amazon (AMZN)",
              "Tesla (TSLA)",
              "Nvidia (NVDA)",
              "Meta (META)",
              "Adobe (ADBE)",
              "Netflix (NFLX)",
              "Salesforce (CRM)",
              "AMD",
              "Intel (INTC)",
              "Oracle (ORCL)",
              "IBM",
              "Cisco (CSCO)",
              "Uber (UBER)",
              "Paypal (PYPL)",
              "Shopify (SHOP)",
              "Square (SQ)",
              "Snowflake (SNOW)",
              "ASML",
              "Broadcom (AVGO)",
              "Texas Instruments (TXN)",
              "Qualcomm (QCOM)",
              "ServiceNow (NOW)",
              "Zoom (ZM)",
              "Twilio (TWLO)",
              "Palantir (PLTR)",
              "DocuSign (DOCU)",
              "Workday (WDAY)",
              "Atlassian (TEAM)",
              "Fastly (FSLY)",
              "CrowdStrike (CRWD)",
              "Okta (OKTA)",
              "Datadog (DDOG)",
              "Cloudflare (NET)",
              "Pinterest (PINS)",
              "Snap (SNAP)",
              "Roku (ROKU)",
              "Spotify (SPOT)",
              "Zscaler (ZS)",
              "MongoDB (MDB)",
              "Veeva (VEEV)",
              "Palo Alto Networks (PANW)",
              "Fiserv (FIS)",
              "Autodesk (ADSK)",
              "SAP",
              "Intuit (INTU)",
              "Arista Networks (ANET)",
              "Sea Limited (SE)"
            ],
            "_view_count": null,
            "_view_module": "@jupyter-widgets/controls",
            "_view_module_version": "1.5.0",
            "_view_name": "DropdownView",
            "description": "Stock:",
            "description_tooltip": null,
            "disabled": false,
            "index": 0,
            "layout": "IPY_MODEL_34bd4486132c4dc0af60a429f17fce9f",
            "style": "IPY_MODEL_9bc02a1597614fa583cde8959d28f852"
          }
        },
        "34bd4486132c4dc0af60a429f17fce9f": {
          "model_module": "@jupyter-widgets/base",
          "model_name": "LayoutModel",
          "model_module_version": "1.2.0",
          "state": {
            "_model_module": "@jupyter-widgets/base",
            "_model_module_version": "1.2.0",
            "_model_name": "LayoutModel",
            "_view_count": null,
            "_view_module": "@jupyter-widgets/base",
            "_view_module_version": "1.2.0",
            "_view_name": "LayoutView",
            "align_content": null,
            "align_items": null,
            "align_self": null,
            "border": null,
            "bottom": null,
            "display": null,
            "flex": null,
            "flex_flow": null,
            "grid_area": null,
            "grid_auto_columns": null,
            "grid_auto_flow": null,
            "grid_auto_rows": null,
            "grid_column": null,
            "grid_gap": null,
            "grid_row": null,
            "grid_template_areas": null,
            "grid_template_columns": null,
            "grid_template_rows": null,
            "height": null,
            "justify_content": null,
            "justify_items": null,
            "left": null,
            "margin": null,
            "max_height": null,
            "max_width": null,
            "min_height": null,
            "min_width": null,
            "object_fit": null,
            "object_position": null,
            "order": null,
            "overflow": null,
            "overflow_x": null,
            "overflow_y": null,
            "padding": null,
            "right": null,
            "top": null,
            "visibility": null,
            "width": null
          }
        },
        "9bc02a1597614fa583cde8959d28f852": {
          "model_module": "@jupyter-widgets/controls",
          "model_name": "DescriptionStyleModel",
          "model_module_version": "1.5.0",
          "state": {
            "_model_module": "@jupyter-widgets/controls",
            "_model_module_version": "1.5.0",
            "_model_name": "DescriptionStyleModel",
            "_view_count": null,
            "_view_module": "@jupyter-widgets/base",
            "_view_module_version": "1.2.0",
            "_view_name": "StyleView",
            "description_width": ""
          }
        },
        "701fcbd419af41d19b3dfbe206352083": {
          "model_module": "@jupyter-widgets/controls",
          "model_name": "IntTextModel",
          "model_module_version": "1.5.0",
          "state": {
            "_dom_classes": [],
            "_model_module": "@jupyter-widgets/controls",
            "_model_module_version": "1.5.0",
            "_model_name": "IntTextModel",
            "_view_count": null,
            "_view_module": "@jupyter-widgets/controls",
            "_view_module_version": "1.5.0",
            "_view_name": "IntTextView",
            "continuous_update": false,
            "description": "Investment ($):",
            "description_tooltip": null,
            "disabled": false,
            "layout": "IPY_MODEL_58547a09820543bbb999edc5d9051419",
            "step": 100,
            "style": "IPY_MODEL_d80e297f5e6f408a88abb80dc4c9c078",
            "value": 1000
          }
        },
        "58547a09820543bbb999edc5d9051419": {
          "model_module": "@jupyter-widgets/base",
          "model_name": "LayoutModel",
          "model_module_version": "1.2.0",
          "state": {
            "_model_module": "@jupyter-widgets/base",
            "_model_module_version": "1.2.0",
            "_model_name": "LayoutModel",
            "_view_count": null,
            "_view_module": "@jupyter-widgets/base",
            "_view_module_version": "1.2.0",
            "_view_name": "LayoutView",
            "align_content": null,
            "align_items": null,
            "align_self": null,
            "border": null,
            "bottom": null,
            "display": null,
            "flex": null,
            "flex_flow": null,
            "grid_area": null,
            "grid_auto_columns": null,
            "grid_auto_flow": null,
            "grid_auto_rows": null,
            "grid_column": null,
            "grid_gap": null,
            "grid_row": null,
            "grid_template_areas": null,
            "grid_template_columns": null,
            "grid_template_rows": null,
            "height": null,
            "justify_content": null,
            "justify_items": null,
            "left": null,
            "margin": null,
            "max_height": null,
            "max_width": null,
            "min_height": null,
            "min_width": null,
            "object_fit": null,
            "object_position": null,
            "order": null,
            "overflow": null,
            "overflow_x": null,
            "overflow_y": null,
            "padding": null,
            "right": null,
            "top": null,
            "visibility": null,
            "width": null
          }
        },
        "d80e297f5e6f408a88abb80dc4c9c078": {
          "model_module": "@jupyter-widgets/controls",
          "model_name": "DescriptionStyleModel",
          "model_module_version": "1.5.0",
          "state": {
            "_model_module": "@jupyter-widgets/controls",
            "_model_module_version": "1.5.0",
            "_model_name": "DescriptionStyleModel",
            "_view_count": null,
            "_view_module": "@jupyter-widgets/base",
            "_view_module_version": "1.2.0",
            "_view_name": "StyleView",
            "description_width": ""
          }
        },
        "c699229d3654484bb0ef4ebf24100197": {
          "model_module": "@jupyter-widgets/controls",
          "model_name": "IntSliderModel",
          "model_module_version": "1.5.0",
          "state": {
            "_dom_classes": [],
            "_model_module": "@jupyter-widgets/controls",
            "_model_module_version": "1.5.0",
            "_model_name": "IntSliderModel",
            "_view_count": null,
            "_view_module": "@jupyter-widgets/controls",
            "_view_module_version": "1.5.0",
            "_view_name": "IntSliderView",
            "continuous_update": true,
            "description": "Years:",
            "description_tooltip": null,
            "disabled": false,
            "layout": "IPY_MODEL_0b586efa225e4ad8a2002a0e6cdac2fa",
            "max": 30,
            "min": 1,
            "orientation": "horizontal",
            "readout": true,
            "readout_format": "d",
            "step": 1,
            "style": "IPY_MODEL_a3da591d1df341e8a74b8c6d6324ca53",
            "value": 5
          }
        },
        "0b586efa225e4ad8a2002a0e6cdac2fa": {
          "model_module": "@jupyter-widgets/base",
          "model_name": "LayoutModel",
          "model_module_version": "1.2.0",
          "state": {
            "_model_module": "@jupyter-widgets/base",
            "_model_module_version": "1.2.0",
            "_model_name": "LayoutModel",
            "_view_count": null,
            "_view_module": "@jupyter-widgets/base",
            "_view_module_version": "1.2.0",
            "_view_name": "LayoutView",
            "align_content": null,
            "align_items": null,
            "align_self": null,
            "border": null,
            "bottom": null,
            "display": null,
            "flex": null,
            "flex_flow": null,
            "grid_area": null,
            "grid_auto_columns": null,
            "grid_auto_flow": null,
            "grid_auto_rows": null,
            "grid_column": null,
            "grid_gap": null,
            "grid_row": null,
            "grid_template_areas": null,
            "grid_template_columns": null,
            "grid_template_rows": null,
            "height": null,
            "justify_content": null,
            "justify_items": null,
            "left": null,
            "margin": null,
            "max_height": null,
            "max_width": null,
            "min_height": null,
            "min_width": null,
            "object_fit": null,
            "object_position": null,
            "order": null,
            "overflow": null,
            "overflow_x": null,
            "overflow_y": null,
            "padding": null,
            "right": null,
            "top": null,
            "visibility": null,
            "width": null
          }
        },
        "a3da591d1df341e8a74b8c6d6324ca53": {
          "model_module": "@jupyter-widgets/controls",
          "model_name": "SliderStyleModel",
          "model_module_version": "1.5.0",
          "state": {
            "_model_module": "@jupyter-widgets/controls",
            "_model_module_version": "1.5.0",
            "_model_name": "SliderStyleModel",
            "_view_count": null,
            "_view_module": "@jupyter-widgets/base",
            "_view_module_version": "1.2.0",
            "_view_name": "StyleView",
            "description_width": "",
            "handle_color": null
          }
        },
        "ecfa5c05f9dd4fefb82f0fdc5bf3d59f": {
          "model_module": "@jupyter-widgets/controls",
          "model_name": "ButtonModel",
          "model_module_version": "1.5.0",
          "state": {
            "_dom_classes": [],
            "_model_module": "@jupyter-widgets/controls",
            "_model_module_version": "1.5.0",
            "_model_name": "ButtonModel",
            "_view_count": null,
            "_view_module": "@jupyter-widgets/controls",
            "_view_module_version": "1.5.0",
            "_view_name": "ButtonView",
            "button_style": "success",
            "description": "Calculate Returns",
            "disabled": false,
            "icon": "",
            "layout": "IPY_MODEL_90777290492c4cb2bd64aa42ca936a36",
            "style": "IPY_MODEL_59e84438ed674bb88c52d4dc96198581",
            "tooltip": ""
          }
        },
        "90777290492c4cb2bd64aa42ca936a36": {
          "model_module": "@jupyter-widgets/base",
          "model_name": "LayoutModel",
          "model_module_version": "1.2.0",
          "state": {
            "_model_module": "@jupyter-widgets/base",
            "_model_module_version": "1.2.0",
            "_model_name": "LayoutModel",
            "_view_count": null,
            "_view_module": "@jupyter-widgets/base",
            "_view_module_version": "1.2.0",
            "_view_name": "LayoutView",
            "align_content": null,
            "align_items": null,
            "align_self": null,
            "border": null,
            "bottom": null,
            "display": null,
            "flex": null,
            "flex_flow": null,
            "grid_area": null,
            "grid_auto_columns": null,
            "grid_auto_flow": null,
            "grid_auto_rows": null,
            "grid_column": null,
            "grid_gap": null,
            "grid_row": null,
            "grid_template_areas": null,
            "grid_template_columns": null,
            "grid_template_rows": null,
            "height": null,
            "justify_content": null,
            "justify_items": null,
            "left": null,
            "margin": null,
            "max_height": null,
            "max_width": null,
            "min_height": null,
            "min_width": null,
            "object_fit": null,
            "object_position": null,
            "order": null,
            "overflow": null,
            "overflow_x": null,
            "overflow_y": null,
            "padding": null,
            "right": null,
            "top": null,
            "visibility": null,
            "width": null
          }
        },
        "59e84438ed674bb88c52d4dc96198581": {
          "model_module": "@jupyter-widgets/controls",
          "model_name": "ButtonStyleModel",
          "model_module_version": "1.5.0",
          "state": {
            "_model_module": "@jupyter-widgets/controls",
            "_model_module_version": "1.5.0",
            "_model_name": "ButtonStyleModel",
            "_view_count": null,
            "_view_module": "@jupyter-widgets/base",
            "_view_module_version": "1.2.0",
            "_view_name": "StyleView",
            "button_color": null,
            "font_weight": ""
          }
        },
        "9bf71b92085247e0bf90c2a9090b1de5": {
          "model_module": "@jupyter-widgets/output",
          "model_name": "OutputModel",
          "model_module_version": "1.0.0",
          "state": {
            "_dom_classes": [],
            "_model_module": "@jupyter-widgets/output",
            "_model_module_version": "1.0.0",
            "_model_name": "OutputModel",
            "_view_count": null,
            "_view_module": "@jupyter-widgets/output",
            "_view_module_version": "1.0.0",
            "_view_name": "OutputView",
            "layout": "IPY_MODEL_03b08756b98f415bae7ce73f97781c7b",
            "msg_id": "",
            "outputs": [
              {
                "output_type": "stream",
                "name": "stdout",
                "text": [
                  "📊 **Stock:** Apple (AAPL) (AAPL)\n",
                  "📈 **Historical Growth Rate:** 27.68% CAGR\n",
                  "💰 **Investment:** $1,000 for 5 years\n",
                  "💸 **Projected Return:** **$3,393.24**\n"
                ]
              },
              {
                "output_type": "display_data",
                "data": {
                  "text/plain": "<Figure size 600x400 with 1 Axes>",
                  "image/png": "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\n"
                },
                "metadata": {}
              }
            ]
          }
        },
        "03b08756b98f415bae7ce73f97781c7b": {
          "model_module": "@jupyter-widgets/base",
          "model_name": "LayoutModel",
          "model_module_version": "1.2.0",
          "state": {
            "_model_module": "@jupyter-widgets/base",
            "_model_module_version": "1.2.0",
            "_model_name": "LayoutModel",
            "_view_count": null,
            "_view_module": "@jupyter-widgets/base",
            "_view_module_version": "1.2.0",
            "_view_name": "LayoutView",
            "align_content": null,
            "align_items": null,
            "align_self": null,
            "border": null,
            "bottom": null,
            "display": null,
            "flex": null,
            "flex_flow": null,
            "grid_area": null,
            "grid_auto_columns": null,
            "grid_auto_flow": null,
            "grid_auto_rows": null,
            "grid_column": null,
            "grid_gap": null,
            "grid_row": null,
            "grid_template_areas": null,
            "grid_template_columns": null,
            "grid_template_rows": null,
            "height": null,
            "justify_content": null,
            "justify_items": null,
            "left": null,
            "margin": null,
            "max_height": null,
            "max_width": null,
            "min_height": null,
            "min_width": null,
            "object_fit": null,
            "object_position": null,
            "order": null,
            "overflow": null,
            "overflow_x": null,
            "overflow_y": null,
            "padding": null,
            "right": null,
            "top": null,
            "visibility": null,
            "width": null
          }
        }
      }
    }
  },
  "cells": [
    {
      "cell_type": "markdown",
      "metadata": {
        "id": "view-in-github",
        "colab_type": "text"
      },
      "source": [
        "<a href=\"https://colab.research.google.com/github/AruneshDev/Analyzing-Historical-Stock-Revenue-Data-and-Building-a-Dashboard/blob/main/World_Model.ipynb\" target=\"_parent\"><img src=\"https://colab.research.google.com/assets/colab-badge.svg\" alt=\"Open In Colab\"/></a>"
      ]
    },
    {
      "cell_type": "code",
      "source": [],
      "metadata": {
        "id": "KkykXAw4ILm9"
      },
      "execution_count": null,
      "outputs": []
    },
    {
      "cell_type": "code",
      "source": [
        "!pip install streamlit\n",
        "!pip install streamlit ngrok\n"
      ],
      "metadata": {
        "id": "dH1G42NjI3Pc"
      },
      "execution_count": null,
      "outputs": []
    },
    {
      "cell_type": "markdown",
      "source": [
        "### Fetching a live stock data"
      ],
      "metadata": {
        "id": "R7pneBynnnJI"
      }
    },
    {
      "cell_type": "code",
      "source": [
        "import yfinance as yf\n",
        "import pandas as pd\n",
        "import plotly.express as px\n",
        "\n",
        "# Define top 50 tech stock tickers\n",
        "top_tech_tickers = [\n",
        "    \"AAPL\", \"MSFT\", \"GOOGL\", \"AMZN\", \"TSLA\", \"NVDA\", \"META\", \"ADBE\", \"NFLX\", \"CRM\",\n",
        "    \"AMD\", \"INTC\", \"ORCL\", \"IBM\", \"CSCO\", \"UBER\", \"PYPL\", \"SHOP\", \"SQ\", \"SNOW\",\n",
        "    \"ASML\", \"AVGO\", \"TXN\", \"QCOM\", \"NOW\", \"ZM\", \"TWLO\", \"PLTR\", \"DOCU\", \"WDAY\",\n",
        "    \"TEAM\", \"FSLY\", \"CRWD\", \"OKTA\", \"DDOG\", \"NET\", \"PINS\", \"SNAP\", \"ROKU\", \"SPOT\",\n",
        "    \"ZS\", \"MDB\", \"VEEV\", \"PANW\", \"FIS\", \"ADSK\", \"SAP\", \"INTU\", \"ANET\", \"SE\"\n",
        "]\n",
        "\n",
        "# Function to get live stock data and market cap\n",
        "def get_stock_data(tickers):\n",
        "    data = []\n",
        "    for ticker in tickers:\n",
        "        try:\n",
        "            stock = yf.Ticker(ticker)\n",
        "            info = stock.info\n",
        "            hist = stock.history(period=\"1d\", interval=\"5m\")  # 5-minute interval\n",
        "\n",
        "            if hist.empty:\n",
        "                print(f\"Warning: No recent data available for {ticker}, skipping...\")\n",
        "                continue\n",
        "\n",
        "            latest = hist.iloc[-1]  # Get the most recent data\n",
        "\n",
        "            data.append({\n",
        "                \"Ticker\": ticker,\n",
        "                \"Price\": latest[\"Close\"],\n",
        "                \"Change (%)\": ((latest[\"Close\"] - latest[\"Open\"]) / latest[\"Open\"]) * 100,\n",
        "                \"Market Cap\": info.get(\"marketCap\", 0)  # Get market cap (0 if unavailable)\n",
        "            })\n",
        "        except Exception as e:\n",
        "            print(f\"Error fetching data for {ticker}: {e}\")\n",
        "    return pd.DataFrame(data)\n",
        "\n",
        "# Fetch stock data\n",
        "df = get_stock_data(top_tech_tickers)\n",
        "\n",
        "# Convert Market Cap to Billions\n",
        "df[\"Market Cap (B)\"] = df[\"Market Cap\"] / 1e9  # Convert to billions\n",
        "\n",
        "# Display DataFrame\n",
        "print(df)\n"
      ],
      "metadata": {
        "id": "IOG0doyjIKsZ",
        "colab": {
          "base_uri": "https://localhost:8080/"
        },
        "outputId": "bbe05459-0dff-4afd-ee03-a5049d9fdd73"
      },
      "execution_count": 1,
      "outputs": [
        {
          "output_type": "stream",
          "name": "stdout",
          "text": [
            "Error fetching data for SQ: list index out of range\n",
            "   Ticker        Price  Change (%)     Market Cap  Market Cap (B)\n",
            "0    AAPL   245.589996   -0.117947  3688676720640     3688.676721\n",
            "1    MSFT   408.140015   -0.115017  3034624819200     3034.624819\n",
            "2   GOOGL   179.660004    0.038982  2200601362432     2200.601362\n",
            "3    AMZN   216.490005   -0.018470  2295249764352     2295.249764\n",
            "4    TSLA   337.540009   -0.062174  1086540414976     1086.540415\n",
            "5    NVDA   134.270004   -0.533374  3292190474240     3292.190474\n",
            "6    META   683.640015   -0.118343  1731883171840     1731.883172\n",
            "7    ADBE   444.230011   -0.036005   193412497408      193.412497\n",
            "8    NFLX  1002.489990   -0.060810   429104431104      429.104431\n",
            "9     CRM   309.779999    0.096933   296478572544      296.478573\n",
            "10    AMD   110.790001   -0.261074   179613990912      179.613991\n",
            "11   INTC    24.850000   -0.679457   107687100416      107.687100\n",
            "12   ORCL   167.869995   -0.136830   469357854720      469.357855\n",
            "13    IBM   261.579987   -0.053498   241776181248      241.776181\n",
            "14   CSCO    63.980000   -0.078087   254530994176      254.530994\n",
            "15   UBER    78.910004   -0.240196   164802002944      164.802003\n",
            "16   PYPL    74.970001   -0.106598    74143686656       74.143687\n",
            "17   SHOP   115.550003   -0.047576   150227992576      150.227993\n",
            "18   SNOW   177.910004    0.095644    58716332032       58.716332\n",
            "19   ASML   737.000000   -0.052891   290854436864      290.854437\n",
            "20   AVGO   218.500000   -0.255637  1024938147840     1024.938148\n",
            "21    TXN   201.985001   -0.106329   183887265792      183.887266\n",
            "22   QCOM   165.210007   -0.400900   182965567488      182.965567\n",
            "23    NOW   938.549988   -0.076659   193769472000      193.769472\n",
            "24     ZM    82.510002    0.012124    25285838848       25.285839\n",
            "25   TWLO   114.290001    0.501231    17533325312       17.533325\n",
            "26   PLTR   101.330002    0.019746   237702217728      237.702218\n",
            "27   DOCU    83.959999    0.131187    16961851392       16.961851\n",
            "28   WDAY   256.390015   -0.570065    68199743488       68.199743\n",
            "29   TEAM   285.970001    0.185678    74929381376       74.929381\n",
            "30   FSLY     7.260000   -0.751877     1018578048        1.018578\n",
            "31   CRWD   406.670013   -0.007376   100169760768      100.169761\n",
            "32   OKTA    92.699997    0.086368    15893177344       15.893177\n",
            "33   DDOG   119.650002   -0.262572    41008283648       41.008284\n",
            "34    NET   152.039993    0.376307    52437602304       52.437602\n",
            "35   PINS    37.730000    0.292399    25589880832       25.589881\n",
            "36   SNAP    10.350000   -0.240960    17540362240       17.540362\n",
            "37   ROKU    88.839996   -0.224623    12968584192       12.968584\n",
            "38   SPOT   606.994995    0.081615   123810766848      123.810767\n",
            "39     ZS   198.550995    0.091244    30466848768       30.466849\n",
            "40    MDB   273.170013   -0.029272    21897308160       21.897308\n",
            "41   VEEV   225.789993   -0.201110    36657004544       36.657005\n",
            "42   PANW   191.029999    0.057616   126480957440      126.480957\n",
            "43    FIS    69.879997   -0.356481    36998983680       36.998984\n",
            "44   ADSK   284.899994   -0.066646    61420060672       61.420061\n",
            "45    SAP   282.970001    0.024746   334199848960      334.199849\n",
            "46   INTU   565.229980   -0.152799   158284660736      158.284661\n",
            "47   ANET    98.300003   -0.546331   123968102400      123.968102\n",
            "48     SE   127.610001   -1.192407    73297264640       73.297265\n"
          ]
        }
      ]
    },
    {
      "cell_type": "markdown",
      "source": [
        "### Stock Real-Time Heatmap"
      ],
      "metadata": {
        "id": "4h9Ce2rrIWww"
      }
    },
    {
      "cell_type": "code",
      "execution_count": 2,
      "metadata": {
        "colab": {
          "base_uri": "https://localhost:8080/",
          "height": 542
        },
        "id": "JEH7-zrGIGVa",
        "outputId": "04c3550e-332d-4df4-cc3d-0b9f13323227"
      },
      "outputs": [
        {
          "output_type": "display_data",
          "data": {
            "text/html": [
              "<html>\n",
              "<head><meta charset=\"utf-8\" /></head>\n",
              "<body>\n",
              "    <div>            <script src=\"https://cdnjs.cloudflare.com/ajax/libs/mathjax/2.7.5/MathJax.js?config=TeX-AMS-MML_SVG\"></script><script type=\"text/javascript\">if (window.MathJax && window.MathJax.Hub && window.MathJax.Hub.Config) {window.MathJax.Hub.Config({SVG: {font: \"STIX-Web\"}});}</script>                <script type=\"text/javascript\">window.PlotlyConfig = {MathJaxConfig: 'local'};</script>\n",
              "        <script charset=\"utf-8\" src=\"https://cdn.plot.ly/plotly-2.35.2.min.js\"></script>                <div id=\"1fc61b52-a877-4bdd-8605-c80996823451\" class=\"plotly-graph-div\" style=\"height:525px; width:100%;\"></div>            <script type=\"text/javascript\">                                    window.PLOTLYENV=window.PLOTLYENV || {};                                    if (document.getElementById(\"1fc61b52-a877-4bdd-8605-c80996823451\")) {                    Plotly.newPlot(                        \"1fc61b52-a877-4bdd-8605-c80996823451\",                        [{\"branchvalues\":\"total\",\"customdata\":[[-0.11794718527848344],[-0.0360052334290085],[-0.0666464779006338],[-0.26107392036994737],[-0.01847009022226826],[-0.5463307427560116],[-0.05289122997189563],[-0.25563661318126457],[0.09693284939879446],[-0.0073761441840341216],[-0.0780872060186785],[-0.26257226826774677],[0.1311873731107012],[-0.3564808352930822],[-0.751877346662958],[0.03898175045732186],[-0.053497878566578685],[-0.6794567273526748],[-0.1527994910996345],[-0.029272304580283622],[-0.11834283645958113],[-0.11501694035221473],[0.3763068996079074],[-0.06081002556162871],[-0.07665865228409903],[-0.5333737250196542],[0.08636817025262751],[-0.13682985007536808],[0.05761607553244519],[0.2923992915330247],[0.019745605510816253],[-0.10659803837651372],[-0.4009002478570083],[-0.22462328793826494],[0.024746315210019517],[-1.192406781967903],[-0.04757605949455865],[-0.24096017860504518],[0.09564429148836202],[0.08161502344394064],[0.18567782187630502],[-0.0621736358484456],[0.5012308201773465],[-0.10632855644684225],[-0.2401957214624711],[-0.20111023044687087],[-0.5700654566938193],[0.012123801491477272],[0.09124351480295646]],\"domain\":{\"x\":[0.0,1.0],\"y\":[0.0,1.0]},\"hovertemplate\":\"labels=%{label}\\u003cbr\\u003eMarket Cap (B)=%{value}\\u003cbr\\u003eparent=%{parent}\\u003cbr\\u003eid=%{id}\\u003cbr\\u003eChange (%)=%{color}\\u003cextra\\u003e\\u003c\\u002fextra\\u003e\",\"ids\":[\"AAPL\",\"ADBE\",\"ADSK\",\"AMD\",\"AMZN\",\"ANET\",\"ASML\",\"AVGO\",\"CRM\",\"CRWD\",\"CSCO\",\"DDOG\",\"DOCU\",\"FIS\",\"FSLY\",\"GOOGL\",\"IBM\",\"INTC\",\"INTU\",\"MDB\",\"META\",\"MSFT\",\"NET\",\"NFLX\",\"NOW\",\"NVDA\",\"OKTA\",\"ORCL\",\"PANW\",\"PINS\",\"PLTR\",\"PYPL\",\"QCOM\",\"ROKU\",\"SAP\",\"SE\",\"SHOP\",\"SNAP\",\"SNOW\",\"SPOT\",\"TEAM\",\"TSLA\",\"TWLO\",\"TXN\",\"UBER\",\"VEEV\",\"WDAY\",\"ZM\",\"ZS\"],\"labels\":[\"AAPL\",\"ADBE\",\"ADSK\",\"AMD\",\"AMZN\",\"ANET\",\"ASML\",\"AVGO\",\"CRM\",\"CRWD\",\"CSCO\",\"DDOG\",\"DOCU\",\"FIS\",\"FSLY\",\"GOOGL\",\"IBM\",\"INTC\",\"INTU\",\"MDB\",\"META\",\"MSFT\",\"NET\",\"NFLX\",\"NOW\",\"NVDA\",\"OKTA\",\"ORCL\",\"PANW\",\"PINS\",\"PLTR\",\"PYPL\",\"QCOM\",\"ROKU\",\"SAP\",\"SE\",\"SHOP\",\"SNAP\",\"SNOW\",\"SPOT\",\"TEAM\",\"TSLA\",\"TWLO\",\"TXN\",\"UBER\",\"VEEV\",\"WDAY\",\"ZM\",\"ZS\"],\"marker\":{\"coloraxis\":\"coloraxis\",\"colors\":[-0.11794718527848344,-0.0360052334290085,-0.0666464779006338,-0.26107392036994737,-0.01847009022226826,-0.5463307427560116,-0.05289122997189563,-0.25563661318126457,0.09693284939879446,-0.0073761441840341216,-0.0780872060186785,-0.26257226826774677,0.1311873731107012,-0.3564808352930822,-0.751877346662958,0.03898175045732186,-0.053497878566578685,-0.6794567273526748,-0.1527994910996345,-0.029272304580283622,-0.11834283645958113,-0.11501694035221473,0.3763068996079074,-0.06081002556162871,-0.07665865228409903,-0.5333737250196542,0.08636817025262751,-0.13682985007536808,0.05761607553244519,0.2923992915330247,0.019745605510816253,-0.10659803837651372,-0.4009002478570083,-0.22462328793826494,0.024746315210019517,-1.192406781967903,-0.04757605949455865,-0.24096017860504518,0.09564429148836202,0.08161502344394064,0.18567782187630502,-0.0621736358484456,0.5012308201773465,-0.10632855644684225,-0.2401957214624711,-0.20111023044687087,-0.5700654566938193,0.012123801491477272,0.09124351480295646]},\"name\":\"\",\"parents\":[\"\",\"\",\"\",\"\",\"\",\"\",\"\",\"\",\"\",\"\",\"\",\"\",\"\",\"\",\"\",\"\",\"\",\"\",\"\",\"\",\"\",\"\",\"\",\"\",\"\",\"\",\"\",\"\",\"\",\"\",\"\",\"\",\"\",\"\",\"\",\"\",\"\",\"\",\"\",\"\",\"\",\"\",\"\",\"\",\"\",\"\",\"\",\"\",\"\"],\"values\":[3688.67672064,193.412497408,61.420060672,179.613990912,2295.249764352,123.9681024,290.854436864,1024.93814784,296.478572544,100.169760768,254.530994176,41.008283648,16.961851392,36.99898368,1.018578048,2200.601362432,241.776181248,107.687100416,158.284660736,21.89730816,1731.88317184,3034.6248192,52.437602304,429.104431104,193.769472,3292.19047424,15.893177344,469.35785472,126.48095744,25.589880832,237.702217728,74.143686656,182.965567488,12.968584192,334.19984896,73.29726464,150.227992576,17.54036224,58.716332032,123.810766848,74.929381376,1086.540414976,17.533325312,183.887265792,164.802002944,36.657004544,68.199743488,25.285838848,30.466848768],\"type\":\"treemap\"}],                        {\"template\":{\"data\":{\"histogram2dcontour\":[{\"type\":\"histogram2dcontour\",\"colorbar\":{\"outlinewidth\":0,\"ticks\":\"\"},\"colorscale\":[[0.0,\"#0d0887\"],[0.1111111111111111,\"#46039f\"],[0.2222222222222222,\"#7201a8\"],[0.3333333333333333,\"#9c179e\"],[0.4444444444444444,\"#bd3786\"],[0.5555555555555556,\"#d8576b\"],[0.6666666666666666,\"#ed7953\"],[0.7777777777777778,\"#fb9f3a\"],[0.8888888888888888,\"#fdca26\"],[1.0,\"#f0f921\"]]}],\"choropleth\":[{\"type\":\"choropleth\",\"colorbar\":{\"outlinewidth\":0,\"ticks\":\"\"}}],\"histogram2d\":[{\"type\":\"histogram2d\",\"colorbar\":{\"outlinewidth\":0,\"ticks\":\"\"},\"colorscale\":[[0.0,\"#0d0887\"],[0.1111111111111111,\"#46039f\"],[0.2222222222222222,\"#7201a8\"],[0.3333333333333333,\"#9c179e\"],[0.4444444444444444,\"#bd3786\"],[0.5555555555555556,\"#d8576b\"],[0.6666666666666666,\"#ed7953\"],[0.7777777777777778,\"#fb9f3a\"],[0.8888888888888888,\"#fdca26\"],[1.0,\"#f0f921\"]]}],\"heatmap\":[{\"type\":\"heatmap\",\"colorbar\":{\"outlinewidth\":0,\"ticks\":\"\"},\"colorscale\":[[0.0,\"#0d0887\"],[0.1111111111111111,\"#46039f\"],[0.2222222222222222,\"#7201a8\"],[0.3333333333333333,\"#9c179e\"],[0.4444444444444444,\"#bd3786\"],[0.5555555555555556,\"#d8576b\"],[0.6666666666666666,\"#ed7953\"],[0.7777777777777778,\"#fb9f3a\"],[0.8888888888888888,\"#fdca26\"],[1.0,\"#f0f921\"]]}],\"heatmapgl\":[{\"type\":\"heatmapgl\",\"colorbar\":{\"outlinewidth\":0,\"ticks\":\"\"},\"colorscale\":[[0.0,\"#0d0887\"],[0.1111111111111111,\"#46039f\"],[0.2222222222222222,\"#7201a8\"],[0.3333333333333333,\"#9c179e\"],[0.4444444444444444,\"#bd3786\"],[0.5555555555555556,\"#d8576b\"],[0.6666666666666666,\"#ed7953\"],[0.7777777777777778,\"#fb9f3a\"],[0.8888888888888888,\"#fdca26\"],[1.0,\"#f0f921\"]]}],\"contourcarpet\":[{\"type\":\"contourcarpet\",\"colorbar\":{\"outlinewidth\":0,\"ticks\":\"\"}}],\"contour\":[{\"type\":\"contour\",\"colorbar\":{\"outlinewidth\":0,\"ticks\":\"\"},\"colorscale\":[[0.0,\"#0d0887\"],[0.1111111111111111,\"#46039f\"],[0.2222222222222222,\"#7201a8\"],[0.3333333333333333,\"#9c179e\"],[0.4444444444444444,\"#bd3786\"],[0.5555555555555556,\"#d8576b\"],[0.6666666666666666,\"#ed7953\"],[0.7777777777777778,\"#fb9f3a\"],[0.8888888888888888,\"#fdca26\"],[1.0,\"#f0f921\"]]}],\"surface\":[{\"type\":\"surface\",\"colorbar\":{\"outlinewidth\":0,\"ticks\":\"\"},\"colorscale\":[[0.0,\"#0d0887\"],[0.1111111111111111,\"#46039f\"],[0.2222222222222222,\"#7201a8\"],[0.3333333333333333,\"#9c179e\"],[0.4444444444444444,\"#bd3786\"],[0.5555555555555556,\"#d8576b\"],[0.6666666666666666,\"#ed7953\"],[0.7777777777777778,\"#fb9f3a\"],[0.8888888888888888,\"#fdca26\"],[1.0,\"#f0f921\"]]}],\"mesh3d\":[{\"type\":\"mesh3d\",\"colorbar\":{\"outlinewidth\":0,\"ticks\":\"\"}}],\"scatter\":[{\"fillpattern\":{\"fillmode\":\"overlay\",\"size\":10,\"solidity\":0.2},\"type\":\"scatter\"}],\"parcoords\":[{\"type\":\"parcoords\",\"line\":{\"colorbar\":{\"outlinewidth\":0,\"ticks\":\"\"}}}],\"scatterpolargl\":[{\"type\":\"scatterpolargl\",\"marker\":{\"colorbar\":{\"outlinewidth\":0,\"ticks\":\"\"}}}],\"bar\":[{\"error_x\":{\"color\":\"#2a3f5f\"},\"error_y\":{\"color\":\"#2a3f5f\"},\"marker\":{\"line\":{\"color\":\"#E5ECF6\",\"width\":0.5},\"pattern\":{\"fillmode\":\"overlay\",\"size\":10,\"solidity\":0.2}},\"type\":\"bar\"}],\"scattergeo\":[{\"type\":\"scattergeo\",\"marker\":{\"colorbar\":{\"outlinewidth\":0,\"ticks\":\"\"}}}],\"scatterpolar\":[{\"type\":\"scatterpolar\",\"marker\":{\"colorbar\":{\"outlinewidth\":0,\"ticks\":\"\"}}}],\"histogram\":[{\"marker\":{\"pattern\":{\"fillmode\":\"overlay\",\"size\":10,\"solidity\":0.2}},\"type\":\"histogram\"}],\"scattergl\":[{\"type\":\"scattergl\",\"marker\":{\"colorbar\":{\"outlinewidth\":0,\"ticks\":\"\"}}}],\"scatter3d\":[{\"type\":\"scatter3d\",\"line\":{\"colorbar\":{\"outlinewidth\":0,\"ticks\":\"\"}},\"marker\":{\"colorbar\":{\"outlinewidth\":0,\"ticks\":\"\"}}}],\"scattermapbox\":[{\"type\":\"scattermapbox\",\"marker\":{\"colorbar\":{\"outlinewidth\":0,\"ticks\":\"\"}}}],\"scatterternary\":[{\"type\":\"scatterternary\",\"marker\":{\"colorbar\":{\"outlinewidth\":0,\"ticks\":\"\"}}}],\"scattercarpet\":[{\"type\":\"scattercarpet\",\"marker\":{\"colorbar\":{\"outlinewidth\":0,\"ticks\":\"\"}}}],\"carpet\":[{\"aaxis\":{\"endlinecolor\":\"#2a3f5f\",\"gridcolor\":\"white\",\"linecolor\":\"white\",\"minorgridcolor\":\"white\",\"startlinecolor\":\"#2a3f5f\"},\"baxis\":{\"endlinecolor\":\"#2a3f5f\",\"gridcolor\":\"white\",\"linecolor\":\"white\",\"minorgridcolor\":\"white\",\"startlinecolor\":\"#2a3f5f\"},\"type\":\"carpet\"}],\"table\":[{\"cells\":{\"fill\":{\"color\":\"#EBF0F8\"},\"line\":{\"color\":\"white\"}},\"header\":{\"fill\":{\"color\":\"#C8D4E3\"},\"line\":{\"color\":\"white\"}},\"type\":\"table\"}],\"barpolar\":[{\"marker\":{\"line\":{\"color\":\"#E5ECF6\",\"width\":0.5},\"pattern\":{\"fillmode\":\"overlay\",\"size\":10,\"solidity\":0.2}},\"type\":\"barpolar\"}],\"pie\":[{\"automargin\":true,\"type\":\"pie\"}]},\"layout\":{\"autotypenumbers\":\"strict\",\"colorway\":[\"#636efa\",\"#EF553B\",\"#00cc96\",\"#ab63fa\",\"#FFA15A\",\"#19d3f3\",\"#FF6692\",\"#B6E880\",\"#FF97FF\",\"#FECB52\"],\"font\":{\"color\":\"#2a3f5f\"},\"hovermode\":\"closest\",\"hoverlabel\":{\"align\":\"left\"},\"paper_bgcolor\":\"white\",\"plot_bgcolor\":\"#E5ECF6\",\"polar\":{\"bgcolor\":\"#E5ECF6\",\"angularaxis\":{\"gridcolor\":\"white\",\"linecolor\":\"white\",\"ticks\":\"\"},\"radialaxis\":{\"gridcolor\":\"white\",\"linecolor\":\"white\",\"ticks\":\"\"}},\"ternary\":{\"bgcolor\":\"#E5ECF6\",\"aaxis\":{\"gridcolor\":\"white\",\"linecolor\":\"white\",\"ticks\":\"\"},\"baxis\":{\"gridcolor\":\"white\",\"linecolor\":\"white\",\"ticks\":\"\"},\"caxis\":{\"gridcolor\":\"white\",\"linecolor\":\"white\",\"ticks\":\"\"}},\"coloraxis\":{\"colorbar\":{\"outlinewidth\":0,\"ticks\":\"\"}},\"colorscale\":{\"sequential\":[[0.0,\"#0d0887\"],[0.1111111111111111,\"#46039f\"],[0.2222222222222222,\"#7201a8\"],[0.3333333333333333,\"#9c179e\"],[0.4444444444444444,\"#bd3786\"],[0.5555555555555556,\"#d8576b\"],[0.6666666666666666,\"#ed7953\"],[0.7777777777777778,\"#fb9f3a\"],[0.8888888888888888,\"#fdca26\"],[1.0,\"#f0f921\"]],\"sequentialminus\":[[0.0,\"#0d0887\"],[0.1111111111111111,\"#46039f\"],[0.2222222222222222,\"#7201a8\"],[0.3333333333333333,\"#9c179e\"],[0.4444444444444444,\"#bd3786\"],[0.5555555555555556,\"#d8576b\"],[0.6666666666666666,\"#ed7953\"],[0.7777777777777778,\"#fb9f3a\"],[0.8888888888888888,\"#fdca26\"],[1.0,\"#f0f921\"]],\"diverging\":[[0,\"#8e0152\"],[0.1,\"#c51b7d\"],[0.2,\"#de77ae\"],[0.3,\"#f1b6da\"],[0.4,\"#fde0ef\"],[0.5,\"#f7f7f7\"],[0.6,\"#e6f5d0\"],[0.7,\"#b8e186\"],[0.8,\"#7fbc41\"],[0.9,\"#4d9221\"],[1,\"#276419\"]]},\"xaxis\":{\"gridcolor\":\"white\",\"linecolor\":\"white\",\"ticks\":\"\",\"title\":{\"standoff\":15},\"zerolinecolor\":\"white\",\"automargin\":true,\"zerolinewidth\":2},\"yaxis\":{\"gridcolor\":\"white\",\"linecolor\":\"white\",\"ticks\":\"\",\"title\":{\"standoff\":15},\"zerolinecolor\":\"white\",\"automargin\":true,\"zerolinewidth\":2},\"scene\":{\"xaxis\":{\"backgroundcolor\":\"#E5ECF6\",\"gridcolor\":\"white\",\"linecolor\":\"white\",\"showbackground\":true,\"ticks\":\"\",\"zerolinecolor\":\"white\",\"gridwidth\":2},\"yaxis\":{\"backgroundcolor\":\"#E5ECF6\",\"gridcolor\":\"white\",\"linecolor\":\"white\",\"showbackground\":true,\"ticks\":\"\",\"zerolinecolor\":\"white\",\"gridwidth\":2},\"zaxis\":{\"backgroundcolor\":\"#E5ECF6\",\"gridcolor\":\"white\",\"linecolor\":\"white\",\"showbackground\":true,\"ticks\":\"\",\"zerolinecolor\":\"white\",\"gridwidth\":2}},\"shapedefaults\":{\"line\":{\"color\":\"#2a3f5f\"}},\"annotationdefaults\":{\"arrowcolor\":\"#2a3f5f\",\"arrowhead\":0,\"arrowwidth\":1},\"geo\":{\"bgcolor\":\"white\",\"landcolor\":\"#E5ECF6\",\"subunitcolor\":\"white\",\"showland\":true,\"showlakes\":true,\"lakecolor\":\"white\"},\"title\":{\"x\":0.05},\"mapbox\":{\"style\":\"light\"}}},\"coloraxis\":{\"colorbar\":{\"title\":{\"text\":\"Change (%)\"}},\"colorscale\":[[0.0,\"red\"],[0.5,\"white\"],[1.0,\"green\"]]},\"legend\":{\"tracegroupgap\":0},\"title\":{\"text\":\"Live Tech Stock Heatmap (Sized by Market Cap)\"}},                        {\"responsive\": true}                    ).then(function(){\n",
              "                            \n",
              "var gd = document.getElementById('1fc61b52-a877-4bdd-8605-c80996823451');\n",
              "var x = new MutationObserver(function (mutations, observer) {{\n",
              "        var display = window.getComputedStyle(gd).display;\n",
              "        if (!display || display === 'none') {{\n",
              "            console.log([gd, 'removed!']);\n",
              "            Plotly.purge(gd);\n",
              "            observer.disconnect();\n",
              "        }}\n",
              "}});\n",
              "\n",
              "// Listen for the removal of the full notebook cells\n",
              "var notebookContainer = gd.closest('#notebook-container');\n",
              "if (notebookContainer) {{\n",
              "    x.observe(notebookContainer, {childList: true});\n",
              "}}\n",
              "\n",
              "// Listen for the clearing of the current output cell\n",
              "var outputEl = gd.closest('.output');\n",
              "if (outputEl) {{\n",
              "    x.observe(outputEl, {childList: true});\n",
              "}}\n",
              "\n",
              "                        })                };                            </script>        </div>\n",
              "</body>\n",
              "</html>"
            ]
          },
          "metadata": {}
        }
      ],
      "source": [
        "\n",
        "# Create a Heatmap with Market Cap as Size\n",
        "fig = px.treemap(df,\n",
        "                 path=[\"Ticker\"],\n",
        "                 values=\"Market Cap (B)\",  # Market Cap as size\n",
        "                 color=\"Change (%)\",  # Color based on percentage change\n",
        "                 color_continuous_scale=[\"red\", \"white\", \"green\"],\n",
        "                 title=\"Live Tech Stock Heatmap (Sized by Market Cap)\")\n",
        "\n",
        "fig.show()\n"
      ]
    },
    {
      "cell_type": "markdown",
      "source": [
        "### Install Libraries"
      ],
      "metadata": {
        "id": "_bD1Kl-OIkOO"
      }
    },
    {
      "cell_type": "code",
      "source": [
        "!pip install yfinance ipywidgets"
      ],
      "metadata": {
        "id": "QemnQ3N_I_Fe"
      },
      "execution_count": null,
      "outputs": []
    },
    {
      "cell_type": "markdown",
      "source": [
        "### Investment Calculator"
      ],
      "metadata": {
        "id": "7l1_cf_WIwmb"
      }
    },
    {
      "cell_type": "code",
      "source": [
        "import yfinance as yf\n",
        "import pandas as pd\n",
        "import numpy as np\n",
        "import matplotlib.pyplot as plt\n",
        "import ipywidgets as widgets\n",
        "from IPython.display import display\n",
        "\n",
        "# Define top 50 tech stocks\n",
        "top_tech_stocks = {\n",
        "    \"Apple (AAPL)\": \"AAPL\", \"Microsoft (MSFT)\": \"MSFT\", \"Google (GOOGL)\": \"GOOGL\", \"Amazon (AMZN)\": \"AMZN\",\n",
        "    \"Tesla (TSLA)\": \"TSLA\", \"Nvidia (NVDA)\": \"NVDA\", \"Meta (META)\": \"META\", \"Adobe (ADBE)\": \"ADBE\",\n",
        "    \"Netflix (NFLX)\": \"NFLX\", \"Salesforce (CRM)\": \"CRM\", \"AMD\": \"AMD\", \"Intel (INTC)\": \"INTC\",\n",
        "    \"Oracle (ORCL)\": \"ORCL\", \"IBM\": \"IBM\", \"Cisco (CSCO)\": \"CSCO\", \"Uber (UBER)\": \"UBER\",\n",
        "    \"Paypal (PYPL)\": \"PYPL\", \"Shopify (SHOP)\": \"SHOP\", \"Square (SQ)\": \"SQ\", \"Snowflake (SNOW)\": \"SNOW\",\n",
        "    \"ASML\": \"ASML\", \"Broadcom (AVGO)\": \"AVGO\", \"Texas Instruments (TXN)\": \"TXN\", \"Qualcomm (QCOM)\": \"QCOM\",\n",
        "    \"ServiceNow (NOW)\": \"NOW\", \"Zoom (ZM)\": \"ZM\", \"Twilio (TWLO)\": \"TWLO\", \"Palantir (PLTR)\": \"PLTR\",\n",
        "    \"DocuSign (DOCU)\": \"DOCU\", \"Workday (WDAY)\": \"WDAY\", \"Atlassian (TEAM)\": \"TEAM\", \"Fastly (FSLY)\": \"FSLY\",\n",
        "    \"CrowdStrike (CRWD)\": \"CRWD\", \"Okta (OKTA)\": \"OKTA\", \"Datadog (DDOG)\": \"DDOG\", \"Cloudflare (NET)\": \"NET\",\n",
        "    \"Pinterest (PINS)\": \"PINS\", \"Snap (SNAP)\": \"SNAP\", \"Roku (ROKU)\": \"ROKU\", \"Spotify (SPOT)\": \"SPOT\",\n",
        "    \"Zscaler (ZS)\": \"ZS\", \"MongoDB (MDB)\": \"MDB\", \"Veeva (VEEV)\": \"VEEV\", \"Palo Alto Networks (PANW)\": \"PANW\",\n",
        "    \"Fiserv (FIS)\": \"FIS\", \"Autodesk (ADSK)\": \"ADSK\", \"SAP\": \"SAP\", \"Intuit (INTU)\": \"INTU\",\n",
        "    \"Arista Networks (ANET)\": \"ANET\", \"Sea Limited (SE)\": \"SE\"\n",
        "}\n",
        "\n",
        "# Function to calculate compound returns\n",
        "def calculate_returns(amount, years, annual_return):\n",
        "    return amount * (1 + annual_return / 100) ** years\n",
        "\n",
        "# Function to fetch stock's past 5-year CAGR\n",
        "def get_cagr(stock_ticker):\n",
        "    try:\n",
        "        stock = yf.Ticker(stock_ticker)\n",
        "        hist = stock.history(period=\"5y\")  # Fetch last 5 years of data\n",
        "\n",
        "        if hist.empty:\n",
        "            return 10  # Default CAGR if data is missing\n",
        "\n",
        "        start_price = hist[\"Close\"].iloc[0]\n",
        "        end_price = hist[\"Close\"].iloc[-1]\n",
        "\n",
        "        # Calculate CAGR: ((End Price / Start Price)^(1/years)) - 1\n",
        "        cagr = ((end_price / start_price) ** (1 / 5) - 1) * 100\n",
        "        return round(cagr, 2)\n",
        "    except:\n",
        "        return 10  # Default to 10% CAGR if fetch fails\n",
        "\n",
        "# Create interactive widgets\n",
        "stock_dropdown = widgets.Dropdown(\n",
        "    options=top_tech_stocks.keys(),\n",
        "    description=\"Stock:\"\n",
        ")\n",
        "\n",
        "amount_input = widgets.IntText(\n",
        "    value=1000,\n",
        "    min=100,\n",
        "    step=100,\n",
        "    description=\"Investment ($):\"\n",
        ")\n",
        "\n",
        "years_slider = widgets.IntSlider(\n",
        "    value=5,\n",
        "    min=1,\n",
        "    max=30,\n",
        "    step=1,\n",
        "    description=\"Years:\"\n",
        ")\n",
        "\n",
        "# Button to calculate\n",
        "calc_button = widgets.Button(description=\"Calculate Returns\", button_style='success')\n",
        "\n",
        "# Output widget\n",
        "output = widgets.Output()\n",
        "\n",
        "# Function to update investment growth plot\n",
        "def update_investment(change):\n",
        "    with output:\n",
        "        output.clear_output()\n",
        "\n",
        "        # Get user input\n",
        "        selected_stock = stock_dropdown.value\n",
        "        selected_ticker = top_tech_stocks[selected_stock]\n",
        "        amount = amount_input.value\n",
        "        years = years_slider.value\n",
        "\n",
        "        # Fetch CAGR\n",
        "        expected_return = get_cagr(selected_ticker)\n",
        "\n",
        "        # Calculate projected return\n",
        "        final_value = calculate_returns(amount, years, expected_return)\n",
        "\n",
        "        # Display results\n",
        "        print(f\"📊 **Stock:** {selected_stock} ({selected_ticker})\")\n",
        "        print(f\"📈 **Historical Growth Rate:** {expected_return}% CAGR\")\n",
        "        print(f\"💰 **Investment:** ${amount:,} for {years} years\")\n",
        "        print(f\"💸 **Projected Return:** **${final_value:,.2f}**\")\n",
        "\n",
        "        # Investment Growth Chart\n",
        "        x = np.arange(0, years + 1)\n",
        "        y = [calculate_returns(amount, i, expected_return) for i in x]\n",
        "\n",
        "        fig, ax = plt.subplots(figsize=(6, 4))\n",
        "        ax.plot(x, y, marker=\"o\", linestyle=\"-\", color=\"green\", label=\"Investment Growth\")\n",
        "        ax.set_title(f\"Investment Growth Over Time for {selected_ticker}\")\n",
        "        ax.set_xlabel(\"Years\")\n",
        "        ax.set_ylabel(\"Total Value ($)\")\n",
        "        ax.legend()\n",
        "        ax.grid(True)\n",
        "        ax.yaxis.set_major_formatter(plt.FuncFormatter(lambda x, _: f'${x:,.0f}'))\n",
        "\n",
        "        plt.show()\n",
        "\n",
        "# Attach function to button click\n",
        "calc_button.on_click(update_investment)\n",
        "\n",
        "# Display UI\n",
        "display(stock_dropdown, amount_input, years_slider, calc_button, output)\n"
      ],
      "metadata": {
        "id": "ziOFKuFlInmM",
        "colab": {
          "base_uri": "https://localhost:8080/",
          "height": 606,
          "referenced_widgets": [
            "af4c57c315c24e10bfda407e2003428e",
            "34bd4486132c4dc0af60a429f17fce9f",
            "9bc02a1597614fa583cde8959d28f852",
            "701fcbd419af41d19b3dfbe206352083",
            "58547a09820543bbb999edc5d9051419",
            "d80e297f5e6f408a88abb80dc4c9c078",
            "c699229d3654484bb0ef4ebf24100197",
            "0b586efa225e4ad8a2002a0e6cdac2fa",
            "a3da591d1df341e8a74b8c6d6324ca53",
            "ecfa5c05f9dd4fefb82f0fdc5bf3d59f",
            "90777290492c4cb2bd64aa42ca936a36",
            "59e84438ed674bb88c52d4dc96198581",
            "9bf71b92085247e0bf90c2a9090b1de5",
            "03b08756b98f415bae7ce73f97781c7b"
          ]
        },
        "outputId": "2f881d75-cc4f-43b5-addd-eac816b9d657"
      },
      "execution_count": 4,
      "outputs": [
        {
          "output_type": "display_data",
          "data": {
            "text/plain": [
              "Dropdown(description='Stock:', options=('Apple (AAPL)', 'Microsoft (MSFT)', 'Google (GOOGL)', 'Amazon (AMZN)',…"
            ],
            "application/vnd.jupyter.widget-view+json": {
              "version_major": 2,
              "version_minor": 0,
              "model_id": "af4c57c315c24e10bfda407e2003428e"
            }
          },
          "metadata": {}
        },
        {
          "output_type": "display_data",
          "data": {
            "text/plain": [
              "IntText(value=1000, description='Investment ($):', step=100)"
            ],
            "application/vnd.jupyter.widget-view+json": {
              "version_major": 2,
              "version_minor": 0,
              "model_id": "701fcbd419af41d19b3dfbe206352083"
            }
          },
          "metadata": {}
        },
        {
          "output_type": "display_data",
          "data": {
            "text/plain": [
              "IntSlider(value=5, description='Years:', max=30, min=1)"
            ],
            "application/vnd.jupyter.widget-view+json": {
              "version_major": 2,
              "version_minor": 0,
              "model_id": "c699229d3654484bb0ef4ebf24100197"
            }
          },
          "metadata": {}
        },
        {
          "output_type": "display_data",
          "data": {
            "text/plain": [
              "Button(button_style='success', description='Calculate Returns', style=ButtonStyle())"
            ],
            "application/vnd.jupyter.widget-view+json": {
              "version_major": 2,
              "version_minor": 0,
              "model_id": "ecfa5c05f9dd4fefb82f0fdc5bf3d59f"
            }
          },
          "metadata": {}
        },
        {
          "output_type": "display_data",
          "data": {
            "text/plain": [
              "Output()"
            ],
            "application/vnd.jupyter.widget-view+json": {
              "version_major": 2,
              "version_minor": 0,
              "model_id": "9bf71b92085247e0bf90c2a9090b1de5"
            }
          },
          "metadata": {}
        }
      ]
    },
    {
      "cell_type": "code",
      "source": [],
      "metadata": {
        "id": "eYPQ1mdQIz4h"
      },
      "execution_count": null,
      "outputs": []
    }
  ]
}