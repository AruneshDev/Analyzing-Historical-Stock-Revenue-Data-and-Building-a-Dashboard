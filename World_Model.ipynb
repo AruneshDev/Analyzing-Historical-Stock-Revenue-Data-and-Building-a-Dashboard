{
  "nbformat": 4,
  "nbformat_minor": 0,
  "metadata": {
    "colab": {
      "provenance": [],
      "authorship_tag": "ABX9TyOROB/dtE0PzvNSzb8+olEY",
      "include_colab_link": true
    },
    "kernelspec": {
      "name": "python3",
      "display_name": "Python 3"
    },
    "language_info": {
      "name": "python"
    }
  },
  "cells": [
    {
      "cell_type": "markdown",
      "metadata": {
        "id": "view-in-github",
        "colab_type": "text"
      },
      "source": [
        "<a href=\"https://colab.research.google.com/github/AruneshDev/Analyzing-Historical-Stock-Revenue-Data-and-Building-a-Dashboard/blob/main/World_Model.ipynb\" target=\"_parent\"><img src=\"https://colab.research.google.com/assets/colab-badge.svg\" alt=\"Open In Colab\"/></a>"
      ]
    },
    {
      "cell_type": "code",
      "source": [],
      "metadata": {
        "id": "KkykXAw4ILm9"
      },
      "execution_count": 14,
      "outputs": []
    },
    {
      "cell_type": "code",
      "source": [
        "!pip install streamlit\n",
        "!pip install streamlit ngrok\n"
      ],
      "metadata": {
        "id": "dH1G42NjI3Pc"
      },
      "execution_count": null,
      "outputs": []
    },
    {
      "cell_type": "markdown",
      "source": [
        "### Fetching a live stock data"
      ],
      "metadata": {
        "id": "R7pneBynnnJI"
      }
    },
    {
      "cell_type": "code",
      "source": [
        "import yfinance as yf\n",
        "import pandas as pd\n",
        "import plotly.express as px\n",
        "\n",
        "# Define top 20 tech stock tickers\n",
        "top_tech_tickers = [\n",
        "    \"AAPL\", \"MSFT\", \"GOOGL\", \"AMZN\", \"TSLA\", \"NVDA\", \"META\", \"ADBE\", \"NFLX\", \"CRM\",\n",
        "    \"AMD\", \"INTC\", \"ORCL\", \"IBM\", \"CSCO\", \"UBER\", \"PYPL\", \"SHOP\", \"SQ\", \"SNOW\"\n",
        "]\n",
        "# Function to get live stock data and market cap\n",
        "def get_stock_data(tickers):\n",
        "    data = []\n",
        "    for ticker in tickers:\n",
        "        try:\n",
        "            stock = yf.Ticker(ticker)\n",
        "            info = stock.info\n",
        "            hist = stock.history(period=\"1d\", interval=\"5m\")  # 5-minute interval\n",
        "            latest = hist.iloc[-1]  # Get the most recent data\n",
        "\n",
        "            data.append({\n",
        "                \"Ticker\": ticker,\n",
        "                \"Price\": latest[\"Close\"],\n",
        "                \"Change (%)\": ((latest[\"Close\"] - latest[\"Open\"]) / latest[\"Open\"]) * 100,\n",
        "                \"Market Cap\": info.get(\"marketCap\", 0)  # Get market cap (0 if unavailable)\n",
        "            })\n",
        "        except Exception as e:\n",
        "            print(f\"Error fetching data for {ticker}: {e}\")\n",
        "    return pd.DataFrame(data)\n",
        "# Fetch stock data\n",
        "df = get_stock_data(top_tech_tickers)\n",
        "\n",
        "# Convert Market Cap to Billions\n",
        "df[\"Market Cap (B)\"] = df[\"Market Cap\"] / 1e9  # Convert to billions\n",
        "\n",
        "# Display DataFrame\n",
        "print(df)"
      ],
      "metadata": {
        "id": "IOG0doyjIKsZ"
      },
      "execution_count": null,
      "outputs": []
    },
    {
      "cell_type": "markdown",
      "source": [
        "### Stock Real-Time Heatmap"
      ],
      "metadata": {
        "id": "4h9Ce2rrIWww"
      }
    },
    {
      "cell_type": "code",
      "execution_count": 21,
      "metadata": {
        "colab": {
          "base_uri": "https://localhost:8080/",
          "height": 542
        },
        "id": "JEH7-zrGIGVa",
        "outputId": "98b1af8f-e323-428f-b3ed-6754346d561a"
      },
      "outputs": [
        {
          "output_type": "display_data",
          "data": {
            "text/html": [
              "<html>\n",
              "<head><meta charset=\"utf-8\" /></head>\n",
              "<body>\n",
              "    <div>            <script src=\"https://cdnjs.cloudflare.com/ajax/libs/mathjax/2.7.5/MathJax.js?config=TeX-AMS-MML_SVG\"></script><script type=\"text/javascript\">if (window.MathJax && window.MathJax.Hub && window.MathJax.Hub.Config) {window.MathJax.Hub.Config({SVG: {font: \"STIX-Web\"}});}</script>                <script type=\"text/javascript\">window.PlotlyConfig = {MathJaxConfig: 'local'};</script>\n",
              "        <script charset=\"utf-8\" src=\"https://cdn.plot.ly/plotly-2.35.2.min.js\"></script>                <div id=\"6f0fdd94-ab50-4e7b-8351-c6f6bdd6c4db\" class=\"plotly-graph-div\" style=\"height:525px; width:100%;\"></div>            <script type=\"text/javascript\">                                    window.PLOTLYENV=window.PLOTLYENV || {};                                    if (document.getElementById(\"6f0fdd94-ab50-4e7b-8351-c6f6bdd6c4db\")) {                    Plotly.newPlot(                        \"6f0fdd94-ab50-4e7b-8351-c6f6bdd6c4db\",                        [{\"branchvalues\":\"total\",\"customdata\":[[-0.11794718527848344],[-0.03824998030847064],[-0.26107392036994737],[-0.01847009022226826],[0.09370530681856729],[-0.08589695748794618],[0.03898175045732186],[-0.053497878566578685],[-0.6992976612513716],[-0.11834283645958113],[-0.11501694035221473],[-0.060810025561628706],[-0.5333737250196542],[-0.13682985007536808],[-0.0799647601891008],[-0.04757605949455865],[0.09564429148836201],[-0.0621736358484456],[-0.24019572146247106]],\"domain\":{\"x\":[0.0,1.0],\"y\":[0.0,1.0]},\"hovertemplate\":\"labels=%{label}\\u003cbr\\u003eMarket Cap=%{value}\\u003cbr\\u003eparent=%{parent}\\u003cbr\\u003eid=%{id}\\u003cbr\\u003eChange (%)=%{color}\\u003cextra\\u003e\\u003c\\u002fextra\\u003e\",\"ids\":[\"AAPL\",\"ADBE\",\"AMD\",\"AMZN\",\"CRM\",\"CSCO\",\"GOOGL\",\"IBM\",\"INTC\",\"META\",\"MSFT\",\"NFLX\",\"NVDA\",\"ORCL\",\"PYPL\",\"SHOP\",\"SNOW\",\"TSLA\",\"UBER\"],\"labels\":[\"AAPL\",\"ADBE\",\"AMD\",\"AMZN\",\"CRM\",\"CSCO\",\"GOOGL\",\"IBM\",\"INTC\",\"META\",\"MSFT\",\"NFLX\",\"NVDA\",\"ORCL\",\"PYPL\",\"SHOP\",\"SNOW\",\"TSLA\",\"UBER\"],\"marker\":{\"coloraxis\":\"coloraxis\",\"colors\":[-0.11794718527848344,-0.03824998030847064,-0.26107392036994737,-0.01847009022226826,0.09370530681856729,-0.08589695748794618,0.03898175045732186,-0.053497878566578685,-0.6992976612513716,-0.11834283645958113,-0.11501694035221473,-0.060810025561628706,-0.5333737250196542,-0.13682985007536808,-0.0799647601891008,-0.04757605949455865,0.09564429148836201,-0.0621736358484456,-0.24019572146247106]},\"name\":\"\",\"parents\":[\"\",\"\",\"\",\"\",\"\",\"\",\"\",\"\",\"\",\"\",\"\",\"\",\"\",\"\",\"\",\"\",\"\",\"\",\"\"],\"values\":[3688676720640,193412497408,179613990912,2295249764352,296478572544,254530994176,2200601362432,241776181248,107687100416,1731883171840,3034624819200,429104431104,3292190474240,469357854720,74143686656,150227992576,58716332032,1086540414976,164802002944],\"type\":\"treemap\"}],                        {\"template\":{\"data\":{\"candlestick\":[{\"decreasing\":{\"line\":{\"color\":\"#000033\"}},\"increasing\":{\"line\":{\"color\":\"#000032\"}},\"type\":\"candlestick\"}],\"contourcarpet\":[{\"colorscale\":[[0.0,\"#000011\"],[0.1111111111111111,\"#000012\"],[0.2222222222222222,\"#000013\"],[0.3333333333333333,\"#000014\"],[0.4444444444444444,\"#000015\"],[0.5555555555555556,\"#000016\"],[0.6666666666666666,\"#000017\"],[0.7777777777777778,\"#000018\"],[0.8888888888888888,\"#000019\"],[1.0,\"#000020\"]],\"type\":\"contourcarpet\"}],\"contour\":[{\"colorscale\":[[0.0,\"#000011\"],[0.1111111111111111,\"#000012\"],[0.2222222222222222,\"#000013\"],[0.3333333333333333,\"#000014\"],[0.4444444444444444,\"#000015\"],[0.5555555555555556,\"#000016\"],[0.6666666666666666,\"#000017\"],[0.7777777777777778,\"#000018\"],[0.8888888888888888,\"#000019\"],[1.0,\"#000020\"]],\"type\":\"contour\"}],\"heatmap\":[{\"colorscale\":[[0.0,\"#000011\"],[0.1111111111111111,\"#000012\"],[0.2222222222222222,\"#000013\"],[0.3333333333333333,\"#000014\"],[0.4444444444444444,\"#000015\"],[0.5555555555555556,\"#000016\"],[0.6666666666666666,\"#000017\"],[0.7777777777777778,\"#000018\"],[0.8888888888888888,\"#000019\"],[1.0,\"#000020\"]],\"type\":\"heatmap\"}],\"histogram2d\":[{\"colorscale\":[[0.0,\"#000011\"],[0.1111111111111111,\"#000012\"],[0.2222222222222222,\"#000013\"],[0.3333333333333333,\"#000014\"],[0.4444444444444444,\"#000015\"],[0.5555555555555556,\"#000016\"],[0.6666666666666666,\"#000017\"],[0.7777777777777778,\"#000018\"],[0.8888888888888888,\"#000019\"],[1.0,\"#000020\"]],\"type\":\"histogram2d\"}],\"icicle\":[{\"textfont\":{\"color\":\"white\"},\"type\":\"icicle\"}],\"sankey\":[{\"textfont\":{\"color\":\"#000036\"},\"type\":\"sankey\"}],\"scatter\":[{\"marker\":{\"line\":{\"width\":0}},\"type\":\"scatter\"}],\"table\":[{\"cells\":{\"fill\":{\"color\":\"#000038\"},\"font\":{\"color\":\"#000037\"},\"line\":{\"color\":\"#000039\"}},\"header\":{\"fill\":{\"color\":\"#000040\"},\"font\":{\"color\":\"#000036\"},\"line\":{\"color\":\"#000039\"}},\"type\":\"table\"}],\"waterfall\":[{\"connector\":{\"line\":{\"color\":\"#000036\",\"width\":2}},\"decreasing\":{\"marker\":{\"color\":\"#000033\"}},\"increasing\":{\"marker\":{\"color\":\"#000032\"}},\"totals\":{\"marker\":{\"color\":\"#000034\"}},\"type\":\"waterfall\"}]},\"layout\":{\"coloraxis\":{\"colorscale\":[[0.0,\"#000011\"],[0.1111111111111111,\"#000012\"],[0.2222222222222222,\"#000013\"],[0.3333333333333333,\"#000014\"],[0.4444444444444444,\"#000015\"],[0.5555555555555556,\"#000016\"],[0.6666666666666666,\"#000017\"],[0.7777777777777778,\"#000018\"],[0.8888888888888888,\"#000019\"],[1.0,\"#000020\"]]},\"colorscale\":{\"diverging\":[[0.0,\"#000021\"],[0.1,\"#000022\"],[0.2,\"#000023\"],[0.3,\"#000024\"],[0.4,\"#000025\"],[0.5,\"#000026\"],[0.6,\"#000027\"],[0.7,\"#000028\"],[0.8,\"#000029\"],[0.9,\"#000030\"],[1.0,\"#000031\"]],\"sequential\":[[0.0,\"#000011\"],[0.1111111111111111,\"#000012\"],[0.2222222222222222,\"#000013\"],[0.3333333333333333,\"#000014\"],[0.4444444444444444,\"#000015\"],[0.5555555555555556,\"#000016\"],[0.6666666666666666,\"#000017\"],[0.7777777777777778,\"#000018\"],[0.8888888888888888,\"#000019\"],[1.0,\"#000020\"]],\"sequentialminus\":[[0.0,\"#000011\"],[0.1111111111111111,\"#000012\"],[0.2222222222222222,\"#000013\"],[0.3333333333333333,\"#000014\"],[0.4444444444444444,\"#000015\"],[0.5555555555555556,\"#000016\"],[0.6666666666666666,\"#000017\"],[0.7777777777777778,\"#000018\"],[0.8888888888888888,\"#000019\"],[1.0,\"#000020\"]]},\"colorway\":[\"#000001\",\"#000002\",\"#000003\",\"#000004\",\"#000005\",\"#000006\",\"#000007\",\"#000008\",\"#000009\",\"#000010\"]}},\"coloraxis\":{\"colorbar\":{\"title\":{\"text\":\"Change (%)\"}},\"colorscale\":[[0.0,\"red\"],[0.5,\"white\"],[1.0,\"green\"]]},\"legend\":{\"tracegroupgap\":0},\"title\":{\"text\":\"Live Tech Stock Heatmap (Sized by Market Cap)\"}},                        {\"responsive\": true}                    ).then(function(){\n",
              "                            \n",
              "var gd = document.getElementById('6f0fdd94-ab50-4e7b-8351-c6f6bdd6c4db');\n",
              "var x = new MutationObserver(function (mutations, observer) {{\n",
              "        var display = window.getComputedStyle(gd).display;\n",
              "        if (!display || display === 'none') {{\n",
              "            console.log([gd, 'removed!']);\n",
              "            Plotly.purge(gd);\n",
              "            observer.disconnect();\n",
              "        }}\n",
              "}});\n",
              "\n",
              "// Listen for the removal of the full notebook cells\n",
              "var notebookContainer = gd.closest('#notebook-container');\n",
              "if (notebookContainer) {{\n",
              "    x.observe(notebookContainer, {childList: true});\n",
              "}}\n",
              "\n",
              "// Listen for the clearing of the current output cell\n",
              "var outputEl = gd.closest('.output');\n",
              "if (outputEl) {{\n",
              "    x.observe(outputEl, {childList: true});\n",
              "}}\n",
              "\n",
              "                        })                };                            </script>        </div>\n",
              "</body>\n",
              "</html>"
            ]
          },
          "metadata": {}
        }
      ],
      "source": [
        "fig = px.treemap(df,\n",
        "                 path=[\"Ticker\"],\n",
        "                 values=\"Market Cap\",  # ✅ Fix: Use \"Market Cap\"\n",
        "                 color=\"Change (%)\",\n",
        "                 color_continuous_scale=[\"red\", \"white\", \"green\"],\n",
        "                 title=\"Live Tech Stock Heatmap (Sized by Market Cap)\")\n",
        "\n",
        "fig.show()"
      ]
    },
    {
      "cell_type": "markdown",
      "source": [
        "### Streamlit Dashboard"
      ],
      "metadata": {
        "id": "_bD1Kl-OIkOO"
      }
    },
    {
      "cell_type": "markdown",
      "source": [
        "### Investment Calculator"
      ],
      "metadata": {
        "id": "7l1_cf_WIwmb"
      }
    },
    {
      "cell_type": "code",
      "source": [
        "import streamlit as st\n",
        "import yfinance as yf\n",
        "import numpy as np\n",
        "import matplotlib.pyplot as plt\n",
        "\n",
        "# Define stock options\n",
        "stock_options = {\n",
        "    \"Apple (AAPL)\": \"AAPL\",\n",
        "    \"Microsoft (MSFT)\": \"MSFT\",\n",
        "    \"Google (GOOGL)\": \"GOOGL\",\n",
        "    \"Amazon (AMZN)\": \"AMZN\",\n",
        "    \"Tesla (TSLA)\": \"TSLA\",\n",
        "    \"Nvidia (NVDA)\": \"NVDA\",\n",
        "    \"Meta (META)\": \"META\",\n",
        "    \"Adobe (ADBE)\": \"ADBE\",\n",
        "    \"Netflix (NFLX)\": \"NFLX\",\n",
        "    \"Salesforce (CRM)\": \"CRM\"\n",
        "}\n",
        "\n",
        "# Function to calculate compound returns\n",
        "def calculate_returns(amount, years, annual_return):\n",
        "    return amount * (1 + annual_return / 100) ** years\n",
        "\n",
        "# Function to fetch CAGR safely with retry mechanism\n",
        "@st.cache_data\n",
        "def get_cagr(stock_ticker):\n",
        "    try:\n",
        "        stock = yf.Ticker(stock_ticker)\n",
        "        hist = stock.history(period=\"5y\")\n",
        "\n",
        "        if hist.empty:\n",
        "            return 10, f\"⚠️ No data available for {stock_ticker}, using default 10% CAGR.\"\n",
        "\n",
        "        start_price = hist[\"Close\"].iloc[0]\n",
        "        end_price = hist[\"Close\"].iloc[-1]\n",
        "        cagr = ((end_price / start_price) ** (1 / 5) - 1) * 100\n",
        "        return round(cagr, 2), None  # No warning message\n",
        "    except Exception as e:\n",
        "        return 10, f\"⚠️ Error fetching data: {e}. Using default 10% CAGR.\"\n",
        "\n",
        "# Streamlit UI (Main Execution)\n",
        "def main():\n",
        "    st.sidebar.header(\"📈 Stock Investment Calculator\")\n",
        "\n",
        "    # Dropdown for stock selection\n",
        "    selected_stock = st.sidebar.selectbox(\"📊 Select a Stock\", list(stock_options.keys()))\n",
        "    selected_ticker = stock_options[selected_stock]\n",
        "\n",
        "    # Fetch stock CAGR safely\n",
        "    expected_return, warning_message = get_cagr(selected_ticker)\n",
        "\n",
        "    # Display warning if needed\n",
        "    if warning_message:\n",
        "        st.sidebar.warning(warning_message)\n",
        "\n",
        "    # User inputs\n",
        "    amount = st.sidebar.number_input(\"💰 Investment Amount ($)\", min_value=100, value=1000, step=100)\n",
        "    years = st.sidebar.slider(\"⏳ Investment Duration (Years)\", 1, 30, value=5)\n",
        "\n",
        "    # Calculate projected return\n",
        "    returns = calculate_returns(amount, years, expected_return)\n",
        "\n",
        "    # Display estimated returns\n",
        "    st.sidebar.subheader(\"💵 Estimated Returns\")\n",
        "    st.sidebar.write(f\"📊 **Stock:** {selected_stock} ({selected_ticker})\")\n",
        "    st.sidebar.write(f\"📈 **Historical Growth Rate:** {expected_return}% CAGR\")\n",
        "    st.sidebar.write(f\"💰 **Investment:** ${amount:,} for {years} years\")\n",
        "    st.sidebar.write(f\"💸 **Projected Return:** **${returns:,.2f}**\")\n",
        "\n",
        "    # Investment Growth Chart\n",
        "    x = np.arange(0, years + 1)\n",
        "    y = [calculate_returns(amount, i, expected_return) for i in x]\n",
        "\n",
        "    fig, ax = plt.subplots(figsize=(6, 4))  # Increased figure size\n",
        "    ax.plot(x, y, marker=\"o\", linestyle=\"-\", color=\"green\", label=\"Investment Growth\")\n",
        "    ax.set_title(f\"Investment Growth Over Time for {selected_ticker}\")\n",
        "    ax.set_xlabel(\"Years\")\n",
        "    ax.set_ylabel(\"Total Value ($)\")\n",
        "    ax.legend()\n",
        "    ax.grid(True)\n",
        "    ax.yaxis.set_major_formatter(plt.FuncFormatter(lambda x, _: f'${x:,.0f}'))  # Format Y-axis as currency\n",
        "\n",
        "    # Ensure Streamlit runs in context\n",
        "    st.sidebar.pyplot(fig)\n",
        "\n",
        "# Run Streamlit app\n",
        "if __name__ == \"__main__\":\n",
        "    main()\n"
      ],
      "metadata": {
        "id": "ziOFKuFlInmM"
      },
      "execution_count": null,
      "outputs": []
    },
    {
      "cell_type": "code",
      "source": [],
      "metadata": {
        "id": "eYPQ1mdQIz4h"
      },
      "execution_count": null,
      "outputs": []
    }
  ]
}